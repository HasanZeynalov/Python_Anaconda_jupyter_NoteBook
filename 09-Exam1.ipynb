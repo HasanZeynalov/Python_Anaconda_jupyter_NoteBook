{
 "cells": [
  {
   "cell_type": "markdown",
   "id": "b98b9977",
   "metadata": {},
   "source": [
    "EXAM 1:"
   ]
  },
  {
   "cell_type": "markdown",
   "id": "db00e37c",
   "metadata": {},
   "source": [
    "1) Aşağıdaki String'in 5. harfini my_letter isimli bir değişkene atayınız."
   ]
  },
  {
   "cell_type": "code",
   "execution_count": 26,
   "id": "61ccc980",
   "metadata": {},
   "outputs": [
    {
     "data": {
      "text/plain": [
       "'James Hedfield'"
      ]
     },
     "execution_count": 26,
     "metadata": {},
     "output_type": "execute_result"
    }
   ],
   "source": [
    "my_string='James Hedfield'\n",
    "my_string"
   ]
  },
  {
   "cell_type": "code",
   "execution_count": 27,
   "id": "cedd62fb",
   "metadata": {},
   "outputs": [],
   "source": [
    "my_string=list(my_string)"
   ]
  },
  {
   "cell_type": "code",
   "execution_count": 28,
   "id": "1e02238f",
   "metadata": {},
   "outputs": [
    {
     "data": {
      "text/plain": [
       "['J', 'a', 'm', 'e', 's', ' ', 'H', 'e', 'd', 'f', 'i', 'e', 'l', 'd']"
      ]
     },
     "execution_count": 28,
     "metadata": {},
     "output_type": "execute_result"
    }
   ],
   "source": [
    "my_string"
   ]
  },
  {
   "cell_type": "code",
   "execution_count": 29,
   "id": "1c154f41",
   "metadata": {},
   "outputs": [
    {
     "data": {
      "text/plain": [
       "'s'"
      ]
     },
     "execution_count": 29,
     "metadata": {},
     "output_type": "execute_result"
    }
   ],
   "source": [
    "my_letter=my_string[4]\n",
    "my_letter"
   ]
  },
  {
   "cell_type": "markdown",
   "id": "05204d27",
   "metadata": {},
   "source": [
    "2)Aşağıdaki String'in 5. ve 8. karakteri arasındaki tüm harflerini yazdırınız (5 ve 8 dahil)"
   ]
  },
  {
   "cell_type": "code",
   "execution_count": 30,
   "id": "2e53dec7",
   "metadata": {},
   "outputs": [],
   "source": [
    "my_new_string = \"QuentinTarantino\""
   ]
  },
  {
   "cell_type": "code",
   "execution_count": 31,
   "id": "19416ed3",
   "metadata": {},
   "outputs": [
    {
     "data": {
      "text/plain": [
       "'tin'"
      ]
     },
     "execution_count": 31,
     "metadata": {},
     "output_type": "execute_result"
    }
   ],
   "source": [
    "my_new_string[4:7]"
   ]
  },
  {
   "cell_type": "code",
   "execution_count": 32,
   "id": "08c643e7",
   "metadata": {},
   "outputs": [
    {
     "data": {
      "text/plain": [
       "'s'"
      ]
     },
     "execution_count": 32,
     "metadata": {},
     "output_type": "execute_result"
    }
   ],
   "source": [
    "my_string='James Hedfield'\n",
    "my_string[4]"
   ]
  },
  {
   "cell_type": "markdown",
   "id": "01c7a008",
   "metadata": {},
   "source": [
    "Aşağıdaki String'i kod ile tersten yazın"
   ]
  },
  {
   "cell_type": "code",
   "execution_count": 33,
   "id": "dbf87c30",
   "metadata": {},
   "outputs": [
    {
     "data": {
      "text/plain": [
       "'zınısımnadzımıralkıdamarıtşalılrasiharaknoyfA'"
      ]
     },
     "execution_count": 33,
     "metadata": {},
     "output_type": "execute_result"
    }
   ],
   "source": [
    "my_last_string = \"Afyonkarahisarlılaştıramadıklarımızdanmısınız\"\n",
    "my_last_string[::-1]"
   ]
  },
  {
   "cell_type": "markdown",
   "id": "ab8895e9",
   "metadata": {},
   "source": [
    "##Integer & Float\n",
    "\n",
    "\n",
    " Aşağıdaki işlemin sonucu hangi veri tipinde olacaktır?"
   ]
  },
  {
   "cell_type": "code",
   "execution_count": 34,
   "id": "6f604abe",
   "metadata": {},
   "outputs": [],
   "source": [
    "a=3 + 10.2 + 50"
   ]
  },
  {
   "cell_type": "code",
   "execution_count": 35,
   "id": "a16a0507",
   "metadata": {},
   "outputs": [
    {
     "data": {
      "text/plain": [
       "63.2"
      ]
     },
     "execution_count": 35,
     "metadata": {},
     "output_type": "execute_result"
    }
   ],
   "source": [
    "a"
   ]
  },
  {
   "cell_type": "code",
   "execution_count": 36,
   "id": "e7e17000",
   "metadata": {},
   "outputs": [
    {
     "data": {
      "text/plain": [
       "float"
      ]
     },
     "execution_count": 36,
     "metadata": {},
     "output_type": "execute_result"
    }
   ],
   "source": [
    "type(a)"
   ]
  },
  {
   "cell_type": "markdown",
   "id": "3b4cd92c",
   "metadata": {},
   "source": [
    "Aşağıdaki işlemin sonucu kaçtır?"
   ]
  },
  {
   "cell_type": "code",
   "execution_count": 37,
   "id": "bd27aa4e",
   "metadata": {},
   "outputs": [
    {
     "data": {
      "text/plain": [
       "101"
      ]
     },
     "execution_count": 37,
     "metadata": {},
     "output_type": "execute_result"
    }
   ],
   "source": [
    "5 + 8 * 12"
   ]
  },
  {
   "cell_type": "markdown",
   "id": "3a1c982e",
   "metadata": {},
   "source": [
    "##List & Dictionary & Set\n",
    "\n",
    "\n",
    "1) Bu listeyi 3 farklı yoldan oluşturunuz: [1,2,\"a\"]"
   ]
  },
  {
   "cell_type": "code",
   "execution_count": 38,
   "id": "a1ffe11f",
   "metadata": {},
   "outputs": [
    {
     "data": {
      "text/plain": [
       "[1, 2, 'a']"
      ]
     },
     "execution_count": 38,
     "metadata": {},
     "output_type": "execute_result"
    }
   ],
   "source": [
    "my_list_1=[1,2,'a']\n",
    "my_list_1"
   ]
  },
  {
   "cell_type": "code",
   "execution_count": 39,
   "id": "699c3631",
   "metadata": {},
   "outputs": [],
   "source": [
    "my_list_2=[]"
   ]
  },
  {
   "cell_type": "code",
   "execution_count": 40,
   "id": "98dec07d",
   "metadata": {},
   "outputs": [],
   "source": [
    "my_list_2.append(1)"
   ]
  },
  {
   "cell_type": "code",
   "execution_count": 41,
   "id": "043ca7c1",
   "metadata": {},
   "outputs": [],
   "source": [
    "my_list_2.append(2)"
   ]
  },
  {
   "cell_type": "code",
   "execution_count": 42,
   "id": "eb168c9c",
   "metadata": {},
   "outputs": [
    {
     "data": {
      "text/plain": [
       "[1, 2, 'a']"
      ]
     },
     "execution_count": 42,
     "metadata": {},
     "output_type": "execute_result"
    }
   ],
   "source": [
    "my_list_2.append('a')\n",
    "my_list_2"
   ]
  },
  {
   "cell_type": "code",
   "execution_count": 74,
   "id": "8979e861",
   "metadata": {},
   "outputs": [],
   "source": [
    "my_list_3=list()"
   ]
  },
  {
   "cell_type": "code",
   "execution_count": 75,
   "id": "2d9887c7",
   "metadata": {},
   "outputs": [],
   "source": [
    "my_list_3.append(1)"
   ]
  },
  {
   "cell_type": "code",
   "execution_count": 76,
   "id": "92e63f19",
   "metadata": {},
   "outputs": [],
   "source": [
    "my_list_3.append(2)"
   ]
  },
  {
   "cell_type": "code",
   "execution_count": 77,
   "id": "22cb112e",
   "metadata": {},
   "outputs": [
    {
     "data": {
      "text/plain": [
       "[1, 2, 'a']"
      ]
     },
     "execution_count": 77,
     "metadata": {},
     "output_type": "execute_result"
    }
   ],
   "source": [
    "my_list_3.append(\"a\")\n",
    "my_list_3"
   ]
  },
  {
   "cell_type": "markdown",
   "id": "e3a98303",
   "metadata": {},
   "source": [
    "2) Aşağıdaki \"a\"'yı tek satırda alınız:"
   ]
  },
  {
   "cell_type": "code",
   "execution_count": 61,
   "id": "b7c34383",
   "metadata": {},
   "outputs": [],
   "source": [
    "my_list = [1,4,[2,3,\"a\"]]"
   ]
  },
  {
   "cell_type": "code",
   "execution_count": 62,
   "id": "71aa4a2b",
   "metadata": {},
   "outputs": [
    {
     "data": {
      "text/plain": [
       "'a'"
      ]
     },
     "execution_count": 62,
     "metadata": {},
     "output_type": "execute_result"
    }
   ],
   "source": [
    "my_list[2][2]"
   ]
  },
  {
   "cell_type": "markdown",
   "id": "4586c4bd",
   "metadata": {},
   "source": [
    "3) Aşağıdaki \"b\"'yi tek satırda alınız:"
   ]
  },
  {
   "cell_type": "code",
   "execution_count": 63,
   "id": "57852873",
   "metadata": {},
   "outputs": [
    {
     "data": {
      "text/plain": [
       "dict"
      ]
     },
     "execution_count": 63,
     "metadata": {},
     "output_type": "execute_result"
    }
   ],
   "source": [
    "my_dictionary = {\"k1\":2, \"kk\":[4,{\"kkkk\":\"b\"}]}\n",
    "type(my_dictionary)"
   ]
  },
  {
   "cell_type": "code",
   "execution_count": 64,
   "id": "532cd280",
   "metadata": {},
   "outputs": [
    {
     "data": {
      "text/plain": [
       "'b'"
      ]
     },
     "execution_count": 64,
     "metadata": {},
     "output_type": "execute_result"
    }
   ],
   "source": [
    "my_dictionary['kk'][1]['kkkk']"
   ]
  },
  {
   "cell_type": "markdown",
   "id": "2cb988d6",
   "metadata": {},
   "source": [
    "4) Aşağıdaki liste set'e çevirilince hangi değerler içinde kalacaktır?"
   ]
  },
  {
   "cell_type": "code",
   "execution_count": 65,
   "id": "9ade2a12",
   "metadata": {},
   "outputs": [
    {
     "data": {
      "text/plain": [
       "list"
      ]
     },
     "execution_count": 65,
     "metadata": {},
     "output_type": "execute_result"
    }
   ],
   "source": [
    "my_list_to_be_set = [11,12,22,33,11,22,45,32,21,22,33,45]\n",
    "type(my_list_to_be_set)"
   ]
  },
  {
   "cell_type": "code",
   "execution_count": 66,
   "id": "63261dc9",
   "metadata": {},
   "outputs": [
    {
     "data": {
      "text/plain": [
       "{11, 12, 21, 22, 32, 33, 45}"
      ]
     },
     "execution_count": 66,
     "metadata": {},
     "output_type": "execute_result"
    }
   ],
   "source": [
    "my_list_to_be_set=set(my_list_to_be_set)\n",
    "my_list_to_be_set"
   ]
  },
  {
   "cell_type": "markdown",
   "id": "f9f93b84",
   "metadata": {},
   "source": [
    "Boolean\n",
    "# 1) Aşağıdaki ifadenin sonucu ne olacaktır?"
   ]
  },
  {
   "cell_type": "code",
   "execution_count": 67,
   "id": "74aceaee",
   "metadata": {},
   "outputs": [],
   "source": [
    "x=40*5/3"
   ]
  },
  {
   "cell_type": "code",
   "execution_count": 68,
   "id": "f9a0c075",
   "metadata": {},
   "outputs": [],
   "source": [
    "y=208-2*4"
   ]
  },
  {
   "cell_type": "code",
   "execution_count": 69,
   "id": "af8cfe05",
   "metadata": {},
   "outputs": [
    {
     "data": {
      "text/plain": [
       "False"
      ]
     },
     "execution_count": 69,
     "metadata": {},
     "output_type": "execute_result"
    }
   ],
   "source": [
    "x>y"
   ]
  },
  {
   "cell_type": "markdown",
   "id": "05bce0ed",
   "metadata": {},
   "source": [
    "# 2) Aşağıdaki ifadenin sonucu ne olacaktır?"
   ]
  },
  {
   "cell_type": "code",
   "execution_count": 70,
   "id": "9661798e",
   "metadata": {},
   "outputs": [],
   "source": [
    " a= 40 * (4 - 2)"
   ]
  },
  {
   "cell_type": "code",
   "execution_count": 71,
   "id": "8a9efa52",
   "metadata": {},
   "outputs": [],
   "source": [
    " b= 80 - 2 * -5"
   ]
  },
  {
   "cell_type": "code",
   "execution_count": 72,
   "id": "e6f95cb7",
   "metadata": {},
   "outputs": [
    {
     "data": {
      "text/plain": [
       "False"
      ]
     },
     "execution_count": 72,
     "metadata": {},
     "output_type": "execute_result"
    }
   ],
   "source": [
    "a>b"
   ]
  },
  {
   "cell_type": "code",
   "execution_count": null,
   "id": "f09ad04b",
   "metadata": {},
   "outputs": [],
   "source": []
  }
 ],
 "metadata": {
  "kernelspec": {
   "display_name": "Python 3 (ipykernel)",
   "language": "python",
   "name": "python3"
  },
  "language_info": {
   "codemirror_mode": {
    "name": "ipython",
    "version": 3
   },
   "file_extension": ".py",
   "mimetype": "text/x-python",
   "name": "python",
   "nbconvert_exporter": "python",
   "pygments_lexer": "ipython3",
   "version": "3.9.12"
  }
 },
 "nbformat": 4,
 "nbformat_minor": 5
}
