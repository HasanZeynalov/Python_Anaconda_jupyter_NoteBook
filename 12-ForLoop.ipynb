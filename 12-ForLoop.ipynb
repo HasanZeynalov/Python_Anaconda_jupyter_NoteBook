{
 "cells": [
  {
   "cell_type": "code",
   "execution_count": 1,
   "id": "353dd5ef",
   "metadata": {},
   "outputs": [],
   "source": [
    "my_list=[1,2,3,4,5,7.8,'Hasan']"
   ]
  },
  {
   "cell_type": "code",
   "execution_count": 5,
   "id": "938da4a2",
   "metadata": {},
   "outputs": [
    {
     "name": "stdout",
     "output_type": "stream",
     "text": [
      "1\n",
      "2\n",
      "3\n",
      "4\n",
      "5\n",
      "7.8\n",
      "Hasan\n"
     ]
    }
   ],
   "source": [
    "for number in my_list:\n",
    "    print(number)"
   ]
  },
  {
   "cell_type": "code",
   "execution_count": 7,
   "id": "d2acd838",
   "metadata": {},
   "outputs": [
    {
     "name": "stdout",
     "output_type": "stream",
     "text": [
      "5\n",
      "10\n",
      "15\n",
      "20\n",
      "25\n",
      "39.0\n",
      "HasanHasanHasanHasanHasan\n"
     ]
    }
   ],
   "source": [
    "for number in my_list:\n",
    "    new_numbers=number * 5\n",
    "    print(new_numbers)"
   ]
  },
  {
   "cell_type": "code",
   "execution_count": 8,
   "id": "e8767679",
   "metadata": {},
   "outputs": [
    {
     "data": {
      "text/plain": [
       "int"
      ]
     },
     "execution_count": 8,
     "metadata": {},
     "output_type": "execute_result"
    }
   ],
   "source": [
    "type(my_list[2])"
   ]
  },
  {
   "cell_type": "code",
   "execution_count": 9,
   "id": "3b81ea14",
   "metadata": {},
   "outputs": [
    {
     "data": {
      "text/plain": [
       "float"
      ]
     },
     "execution_count": 9,
     "metadata": {},
     "output_type": "execute_result"
    }
   ],
   "source": [
    "type(my_list[5])"
   ]
  },
  {
   "cell_type": "code",
   "execution_count": 10,
   "id": "d8230793",
   "metadata": {},
   "outputs": [
    {
     "data": {
      "text/plain": [
       "str"
      ]
     },
     "execution_count": 10,
     "metadata": {},
     "output_type": "execute_result"
    }
   ],
   "source": [
    "type(my_list[6])"
   ]
  },
  {
   "cell_type": "code",
   "execution_count": 12,
   "id": "56e0c4fe",
   "metadata": {},
   "outputs": [],
   "source": [
    "my_list_2=[1,2,3,4,5,6]"
   ]
  },
  {
   "cell_type": "code",
   "execution_count": 16,
   "id": "351b9e1a",
   "metadata": {},
   "outputs": [
    {
     "name": "stdout",
     "output_type": "stream",
     "text": [
      "2\n",
      "4\n",
      "6\n"
     ]
    }
   ],
   "source": [
    "for item in my_list_2:\n",
    "    if item % 2 == 0:\n",
    "        print(item)"
   ]
  },
  {
   "cell_type": "code",
   "execution_count": 17,
   "id": "a331e06c",
   "metadata": {},
   "outputs": [
    {
     "data": {
      "text/plain": [
       "tuple"
      ]
     },
     "execution_count": 17,
     "metadata": {},
     "output_type": "execute_result"
    }
   ],
   "source": [
    "my_tuple=(1,2,3)\n",
    "type(my_tuple)"
   ]
  },
  {
   "cell_type": "code",
   "execution_count": 18,
   "id": "4f0096f9",
   "metadata": {},
   "outputs": [],
   "source": [
    "my_string='Hasan Zeynalov'"
   ]
  },
  {
   "cell_type": "code",
   "execution_count": 21,
   "id": "56775b21",
   "metadata": {},
   "outputs": [
    {
     "name": "stdout",
     "output_type": "stream",
     "text": [
      "H\n",
      "a\n",
      "s\n",
      "a\n",
      "n\n",
      " \n",
      "Z\n",
      "e\n",
      "y\n",
      "n\n",
      "a\n",
      "l\n",
      "o\n",
      "v\n"
     ]
    }
   ],
   "source": [
    "for letter in my_string:\n",
    "    print(letter)"
   ]
  },
  {
   "cell_type": "code",
   "execution_count": 22,
   "id": "c8af154a",
   "metadata": {},
   "outputs": [],
   "source": [
    "my_tuple=(1,2,3)"
   ]
  },
  {
   "cell_type": "code",
   "execution_count": 23,
   "id": "5f6ae872",
   "metadata": {},
   "outputs": [
    {
     "name": "stdout",
     "output_type": "stream",
     "text": [
      "5\n",
      "10\n",
      "15\n"
     ]
    }
   ],
   "source": [
    "for tuple in my_tuple:\n",
    "    print(tuple * 5)"
   ]
  },
  {
   "cell_type": "code",
   "execution_count": 24,
   "id": "96f86ab3",
   "metadata": {},
   "outputs": [],
   "source": [
    "my_dictionary={'k1' : 150,'k2' : 260,'k3' : 340}"
   ]
  },
  {
   "cell_type": "code",
   "execution_count": 30,
   "id": "29f1ecc9",
   "metadata": {},
   "outputs": [
    {
     "name": "stdout",
     "output_type": "stream",
     "text": [
      "k1\n",
      "k2\n",
      "k3\n"
     ]
    }
   ],
   "source": [
    "for dict in my_dictionary:\n",
    "    \n",
    "        print(dict)"
   ]
  },
  {
   "cell_type": "code",
   "execution_count": 31,
   "id": "dea8fbf1",
   "metadata": {},
   "outputs": [
    {
     "data": {
      "text/plain": [
       "str"
      ]
     },
     "execution_count": 31,
     "metadata": {},
     "output_type": "execute_result"
    }
   ],
   "source": [
    "type(dict)"
   ]
  },
  {
   "cell_type": "code",
   "execution_count": 32,
   "id": "a69c317f",
   "metadata": {},
   "outputs": [],
   "source": [
    "my_list_3=[(1,2),('Hasan','Maqa'),('Valeh','Makat')]"
   ]
  },
  {
   "cell_type": "code",
   "execution_count": 34,
   "id": "d5171400",
   "metadata": {},
   "outputs": [
    {
     "data": {
      "text/plain": [
       "tuple"
      ]
     },
     "execution_count": 34,
     "metadata": {},
     "output_type": "execute_result"
    }
   ],
   "source": [
    "type(my_list_3[2])"
   ]
  },
  {
   "cell_type": "code",
   "execution_count": 37,
   "id": "d4bbc622",
   "metadata": {},
   "outputs": [
    {
     "name": "stdout",
     "output_type": "stream",
     "text": [
      "(1, 2)\n",
      "('Hasan', 'Maqa')\n",
      "('Valeh', 'Makat')\n"
     ]
    }
   ],
   "source": [
    "for elements in my_list_3:\n",
    "    print(elements)"
   ]
  },
  {
   "cell_type": "code",
   "execution_count": 42,
   "id": "c55be91b",
   "metadata": {},
   "outputs": [
    {
     "name": "stdout",
     "output_type": "stream",
     "text": [
      "(1, 2)\n",
      "1\n",
      "('Hasan', 'Maqa')\n",
      "Hasan\n",
      "('Valeh', 'Makat')\n",
      "Valeh\n"
     ]
    }
   ],
   "source": [
    "for (x,y) in my_list_3:\n",
    "    print((x,y))\n",
    "    print(x)"
   ]
  },
  {
   "cell_type": "code",
   "execution_count": 43,
   "id": "5d1ba0f3",
   "metadata": {},
   "outputs": [
    {
     "name": "stdout",
     "output_type": "stream",
     "text": [
      "Valeh\n"
     ]
    }
   ],
   "source": [
    "print(x)"
   ]
  },
  {
   "cell_type": "code",
   "execution_count": 44,
   "id": "ee49d9c5",
   "metadata": {},
   "outputs": [
    {
     "name": "stdout",
     "output_type": "stream",
     "text": [
      "Makat\n"
     ]
    }
   ],
   "source": [
    "print(y)"
   ]
  },
  {
   "cell_type": "code",
   "execution_count": 45,
   "id": "7ae36f04",
   "metadata": {},
   "outputs": [
    {
     "name": "stdout",
     "output_type": "stream",
     "text": [
      "(1, 2)\n",
      "1\n",
      "2\n",
      "('Hasan', 'Maqa')\n",
      "Hasan\n",
      "Maqa\n",
      "('Valeh', 'Makat')\n",
      "Valeh\n",
      "Makat\n"
     ]
    }
   ],
   "source": [
    "for (x,y) in my_list_3:\n",
    "    print((x,y))\n",
    "    print(x)\n",
    "    print(y)"
   ]
  },
  {
   "cell_type": "code",
   "execution_count": 46,
   "id": "8f1c43b9",
   "metadata": {},
   "outputs": [],
   "source": [
    "my_tuple_4=[(1,2,3,4),(5,6,7,8),(9,10,11,12)]"
   ]
  },
  {
   "cell_type": "code",
   "execution_count": 47,
   "id": "eba31ae8",
   "metadata": {},
   "outputs": [
    {
     "name": "stdout",
     "output_type": "stream",
     "text": [
      "4\n",
      "8\n",
      "12\n"
     ]
    }
   ],
   "source": [
    "for (a,b,c,d) in my_tuple_4:\n",
    "    print(d)"
   ]
  },
  {
   "cell_type": "code",
   "execution_count": 54,
   "id": "7f928324",
   "metadata": {},
   "outputs": [],
   "source": [
    "my_dictionary_4={'k11' : 190,'k21' : 285,'k31' : 'Hasan'}"
   ]
  },
  {
   "cell_type": "code",
   "execution_count": 58,
   "id": "82d3ef59",
   "metadata": {},
   "outputs": [
    {
     "name": "stdout",
     "output_type": "stream",
     "text": [
      "k\n",
      "1\n",
      "1\n",
      "k\n",
      "2\n",
      "1\n",
      "k\n",
      "3\n",
      "1\n"
     ]
    }
   ],
   "source": [
    "for (a,b,c ) in my_dictionary_4:\n",
    "    print(a)\n",
    "    print(b)\n",
    "    print(c)"
   ]
  },
  {
   "cell_type": "code",
   "execution_count": 51,
   "id": "4c54aa12",
   "metadata": {},
   "outputs": [
    {
     "data": {
      "text/plain": [
       "dict"
      ]
     },
     "execution_count": 51,
     "metadata": {},
     "output_type": "execute_result"
    }
   ],
   "source": [
    "type(my_dictionary_4)"
   ]
  },
  {
   "cell_type": "code",
   "execution_count": 59,
   "id": "96638125",
   "metadata": {},
   "outputs": [
    {
     "ename": "SyntaxError",
     "evalue": "cannot assign to function call (2505861836.py, line 1)",
     "output_type": "error",
     "traceback": [
      "\u001b[1;36m  Input \u001b[1;32mIn [59]\u001b[1;36m\u001b[0m\n\u001b[1;33m    for (my_dictionary_4.keys(),my_dictionary_4.values()) in my_dictionary_4:\u001b[0m\n\u001b[1;37m         ^\u001b[0m\n\u001b[1;31mSyntaxError\u001b[0m\u001b[1;31m:\u001b[0m cannot assign to function call\n"
     ]
    }
   ],
   "source": [
    "for (my_dictionary_4.keys(),my_dictionary_4.values()) in my_dictionary_4:\n",
    "    print(my_dictionary_4.keys())\n",
    "    print(my_dictionary_4.values())"
   ]
  },
  {
   "cell_type": "code",
   "execution_count": 60,
   "id": "789f3bb8",
   "metadata": {},
   "outputs": [
    {
     "name": "stdout",
     "output_type": "stream",
     "text": [
      "dict_items([('k11', 190), ('k21', 285), ('k31', 'Hasan')])\n"
     ]
    }
   ],
   "source": [
    "print(my_dictionary_4.items())"
   ]
  },
  {
   "cell_type": "code",
   "execution_count": 63,
   "id": "f16eea15",
   "metadata": {},
   "outputs": [
    {
     "name": "stdout",
     "output_type": "stream",
     "text": [
      "k11 190\n",
      "k11\n",
      "k21 285\n",
      "k21\n",
      "k31 Hasan\n",
      "k31\n"
     ]
    }
   ],
   "source": [
    "for a,b in my_dictionary_4.items():\n",
    "    print(a,b)"
   ]
  },
  {
   "cell_type": "code",
   "execution_count": 62,
   "id": "7d7de78f",
   "metadata": {},
   "outputs": [
    {
     "name": "stdout",
     "output_type": "stream",
     "text": [
      "k31\n"
     ]
    }
   ],
   "source": [
    "print(a)"
   ]
  },
  {
   "cell_type": "code",
   "execution_count": null,
   "id": "5021ef93",
   "metadata": {},
   "outputs": [],
   "source": []
  }
 ],
 "metadata": {
  "kernelspec": {
   "display_name": "Python 3 (ipykernel)",
   "language": "python",
   "name": "python3"
  },
  "language_info": {
   "codemirror_mode": {
    "name": "ipython",
    "version": 3
   },
   "file_extension": ".py",
   "mimetype": "text/x-python",
   "name": "python",
   "nbconvert_exporter": "python",
   "pygments_lexer": "ipython3",
   "version": "3.9.12"
  }
 },
 "nbformat": 4,
 "nbformat_minor": 5
}
