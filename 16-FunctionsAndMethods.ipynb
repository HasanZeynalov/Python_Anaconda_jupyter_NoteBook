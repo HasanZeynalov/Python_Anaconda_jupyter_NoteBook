{
 "cells": [
  {
   "cell_type": "code",
   "execution_count": 2,
   "id": "e5b26f58",
   "metadata": {},
   "outputs": [],
   "source": [
    "my_string='Hasan Zeynalov'"
   ]
  },
  {
   "cell_type": "code",
   "execution_count": 3,
   "id": "bdbd11bf",
   "metadata": {},
   "outputs": [
    {
     "data": {
      "text/plain": [
       "['Hasan', 'Zeynalov']"
      ]
     },
     "execution_count": 3,
     "metadata": {},
     "output_type": "execute_result"
    }
   ],
   "source": [
    "my_string.split()"
   ]
  },
  {
   "cell_type": "code",
   "execution_count": 4,
   "id": "e85e6283",
   "metadata": {},
   "outputs": [
    {
     "name": "stdout",
     "output_type": "stream",
     "text": [
      "Help on built-in function isalnum:\n",
      "\n",
      "isalnum() method of builtins.str instance\n",
      "    Return True if the string is an alpha-numeric string, False otherwise.\n",
      "    \n",
      "    A string is alpha-numeric if all characters in the string are alpha-numeric and\n",
      "    there is at least one character in the string.\n",
      "\n"
     ]
    }
   ],
   "source": [
    "help(my_string.isalnum)"
   ]
  },
  {
   "cell_type": "code",
   "execution_count": 5,
   "id": "670ac499",
   "metadata": {},
   "outputs": [],
   "source": [
    "def Hello_world():\n",
    "    print('Hello')\n",
    "    print('World!')\n",
    "    "
   ]
  },
  {
   "cell_type": "code",
   "execution_count": 6,
   "id": "a41b6757",
   "metadata": {},
   "outputs": [
    {
     "data": {
      "text/plain": [
       "<function __main__.Hello_world()>"
      ]
     },
     "execution_count": 6,
     "metadata": {},
     "output_type": "execute_result"
    }
   ],
   "source": [
    "Hello_world"
   ]
  },
  {
   "cell_type": "code",
   "execution_count": 7,
   "id": "bcae4d0a",
   "metadata": {},
   "outputs": [
    {
     "name": "stdout",
     "output_type": "stream",
     "text": [
      "Hello\n",
      "World!\n"
     ]
    }
   ],
   "source": [
    "Hello_world()"
   ]
  },
  {
   "cell_type": "markdown",
   "id": "c49a8925",
   "metadata": {},
   "source": [
    "## Input and return"
   ]
  },
  {
   "cell_type": "code",
   "execution_count": 8,
   "id": "a7b5657b",
   "metadata": {},
   "outputs": [],
   "source": [
    "def Hello_programming(pr_language_name):\n",
    "    pr_language_name=input('Please,Enter your programming language:')\n",
    "    print(f'Hello,{pr_language_name}')\n"
   ]
  },
  {
   "cell_type": "code",
   "execution_count": 9,
   "id": "ac37a595",
   "metadata": {},
   "outputs": [
    {
     "ename": "TypeError",
     "evalue": "Hello_programming() missing 1 required positional argument: 'pr_language_name'",
     "output_type": "error",
     "traceback": [
      "\u001b[1;31m---------------------------------------------------------------------------\u001b[0m",
      "\u001b[1;31mTypeError\u001b[0m                                 Traceback (most recent call last)",
      "Input \u001b[1;32mIn [9]\u001b[0m, in \u001b[0;36m<cell line: 1>\u001b[1;34m()\u001b[0m\n\u001b[1;32m----> 1\u001b[0m \u001b[43mHello_programming\u001b[49m\u001b[43m(\u001b[49m\u001b[43m)\u001b[49m\n",
      "\u001b[1;31mTypeError\u001b[0m: Hello_programming() missing 1 required positional argument: 'pr_language_name'"
     ]
    }
   ],
   "source": [
    "Hello_programming()"
   ]
  },
  {
   "cell_type": "code",
   "execution_count": null,
   "id": "e84fe600",
   "metadata": {},
   "outputs": [],
   "source": [
    "def Hello_programming(pr_language_name):\n",
    "    pr_language_name=input('Please,Enter your programming language:')\n",
    "    print(f'Hello,{pr_language_name}')"
   ]
  },
  {
   "cell_type": "code",
   "execution_count": null,
   "id": "5f0bae65",
   "metadata": {},
   "outputs": [],
   "source": [
    "Hello_programming(pr_language_name)"
   ]
  },
  {
   "cell_type": "code",
   "execution_count": null,
   "id": "c44714af",
   "metadata": {},
   "outputs": [],
   "source": [
    "def Hello_program(name):\n",
    "    print('Hello,')\n",
    "    print(name)"
   ]
  },
  {
   "cell_type": "code",
   "execution_count": null,
   "id": "0ddef85f",
   "metadata": {},
   "outputs": [],
   "source": [
    "Hello_program('Python')"
   ]
  },
  {
   "cell_type": "code",
   "execution_count": null,
   "id": "04ab0b08",
   "metadata": {},
   "outputs": [],
   "source": [
    "Hello_program('R')"
   ]
  },
  {
   "cell_type": "code",
   "execution_count": null,
   "id": "6c60f8b8",
   "metadata": {},
   "outputs": [],
   "source": [
    "Hello_program('Java')"
   ]
  },
  {
   "cell_type": "code",
   "execution_count": null,
   "id": "4e2b11ee",
   "metadata": {},
   "outputs": [],
   "source": [
    "def Hello_programming(name):\n",
    "    name=''\n",
    "    name=input('Please,Enter your programming language:')\n",
    "    print(f'Hello,{name}')"
   ]
  },
  {
   "cell_type": "code",
   "execution_count": null,
   "id": "f4683e7d",
   "metadata": {},
   "outputs": [],
   "source": [
    "Hello_program(name)"
   ]
  },
  {
   "cell_type": "code",
   "execution_count": null,
   "id": "91938bca",
   "metadata": {},
   "outputs": [],
   "source": [
    "def hello_program(name='Python'):\n",
    "    print('Hello,')\n",
    "    print(name)"
   ]
  },
  {
   "cell_type": "code",
   "execution_count": null,
   "id": "0f3057ff",
   "metadata": {},
   "outputs": [],
   "source": [
    "hello_program()"
   ]
  },
  {
   "cell_type": "code",
   "execution_count": null,
   "id": "d6cab515",
   "metadata": {},
   "outputs": [],
   "source": [
    "hello_program('Java')"
   ]
  },
  {
   "cell_type": "code",
   "execution_count": null,
   "id": "cc77c8f1",
   "metadata": {},
   "outputs": [],
   "source": [
    "hello_program()"
   ]
  },
  {
   "cell_type": "code",
   "execution_count": null,
   "id": "4268a76d",
   "metadata": {},
   "outputs": [],
   "source": [
    "def summ(number1,number2,number3):\n",
    "    numbers=number1 + number2 + number3\n",
    "    print(numbers)\n",
    "    "
   ]
  },
  {
   "cell_type": "code",
   "execution_count": null,
   "id": "b22c8c63",
   "metadata": {},
   "outputs": [],
   "source": [
    "summ(10,34,56)"
   ]
  },
  {
   "cell_type": "code",
   "execution_count": null,
   "id": "a98435b0",
   "metadata": {},
   "outputs": [],
   "source": [
    "summ(3,-3,9.8)"
   ]
  },
  {
   "cell_type": "code",
   "execution_count": null,
   "id": "b0a47cec",
   "metadata": {},
   "outputs": [],
   "source": [
    "def summation(num1,num2,num3,num4):\n",
    "    return num1 + num2 + num3 +num4"
   ]
  },
  {
   "cell_type": "code",
   "execution_count": null,
   "id": "b4a39825",
   "metadata": {},
   "outputs": [],
   "source": [
    "summation(2,4,-6,3.1)"
   ]
  },
  {
   "cell_type": "code",
   "execution_count": null,
   "id": "e23b58f9",
   "metadata": {},
   "outputs": [],
   "source": [
    "my_result=summation(1,2,3,4)"
   ]
  },
  {
   "cell_type": "code",
   "execution_count": null,
   "id": "cd54557b",
   "metadata": {},
   "outputs": [],
   "source": [
    "my_result"
   ]
  },
  {
   "cell_type": "code",
   "execution_count": null,
   "id": "91505435",
   "metadata": {},
   "outputs": [],
   "source": [
    "def summm(n1,n2,n3,n4):\n",
    "    cem = n1 + n2 + n3 + n4\n",
    "    print(cem)"
   ]
  },
  {
   "cell_type": "code",
   "execution_count": null,
   "id": "a738c64b",
   "metadata": {},
   "outputs": [],
   "source": [
    "summm(1,2,3,5)"
   ]
  },
  {
   "cell_type": "code",
   "execution_count": null,
   "id": "5fb04a97",
   "metadata": {},
   "outputs": [],
   "source": [
    "my_integer = summm(1,2,3,4)"
   ]
  },
  {
   "cell_type": "code",
   "execution_count": null,
   "id": "0c950b65",
   "metadata": {},
   "outputs": [],
   "source": [
    "my_integer"
   ]
  },
  {
   "cell_type": "code",
   "execution_count": null,
   "id": "ef6548d5",
   "metadata": {},
   "outputs": [],
   "source": [
    "def my_stringg(my_string): \n",
    "    \n",
    "    if my_string[0] == 'h':\n",
    "        print(my_string.capitalize())\n",
    "    else:\n",
    "        print(my_string)\n",
    "        \n",
    "    "
   ]
  },
  {
   "cell_type": "code",
   "execution_count": null,
   "id": "db43ca4a",
   "metadata": {},
   "outputs": [],
   "source": [
    "my_stringg('hasan')"
   ]
  },
  {
   "cell_type": "code",
   "execution_count": null,
   "id": "081197ea",
   "metadata": {},
   "outputs": [],
   "source": [
    "def control_string(s):\n",
    "    if s[0] == 'h':\n",
    "        print(s.capitalize())\n",
    "    else:\n",
    "        print(s)"
   ]
  },
  {
   "cell_type": "code",
   "execution_count": null,
   "id": "e27fc325",
   "metadata": {},
   "outputs": [],
   "source": [
    "control_string('hasan')"
   ]
  },
  {
   "cell_type": "code",
   "execution_count": null,
   "id": "6211228b",
   "metadata": {},
   "outputs": [],
   "source": [
    "control_string('ahh')"
   ]
  },
  {
   "cell_type": "markdown",
   "id": "e16afc0b",
   "metadata": {},
   "source": [
    "## arbitrary arguments and key word arguments"
   ]
  },
  {
   "cell_type": "code",
   "execution_count": 11,
   "id": "95191cff",
   "metadata": {},
   "outputs": [],
   "source": [
    "def summation_2(*args):\n",
    "    return sum(args)"
   ]
  },
  {
   "cell_type": "code",
   "execution_count": 12,
   "id": "e978b1f9",
   "metadata": {},
   "outputs": [
    {
     "data": {
      "text/plain": [
       "222"
      ]
     },
     "execution_count": 12,
     "metadata": {},
     "output_type": "execute_result"
    }
   ],
   "source": [
    "summation_2(10,203,9)"
   ]
  },
  {
   "cell_type": "code",
   "execution_count": 13,
   "id": "f47d0ec4",
   "metadata": {},
   "outputs": [
    {
     "data": {
      "text/plain": [
       "37"
      ]
     },
     "execution_count": 13,
     "metadata": {},
     "output_type": "execute_result"
    }
   ],
   "source": [
    "summation_2(1,2,3,4,5,6,7,9)"
   ]
  },
  {
   "cell_type": "code",
   "execution_count": 14,
   "id": "6c3e000f",
   "metadata": {},
   "outputs": [],
   "source": [
    "def my_func(*args):\n",
    "    print(args)"
   ]
  },
  {
   "cell_type": "code",
   "execution_count": 15,
   "id": "133262ad",
   "metadata": {},
   "outputs": [
    {
     "name": "stdout",
     "output_type": "stream",
     "text": [
      "(1, 2, 3, 4, 5, 9)\n"
     ]
    }
   ],
   "source": [
    "my_func(1,2,3,4,5,9)"
   ]
  },
  {
   "cell_type": "code",
   "execution_count": 16,
   "id": "8077ecb8",
   "metadata": {},
   "outputs": [
    {
     "name": "stdout",
     "output_type": "stream",
     "text": [
      "(1, 'Hasan', [1, 2, 3, 4, 'HasanZ'], {'key1': 100, 'key2': 250})\n"
     ]
    }
   ],
   "source": [
    "my_func(1,'Hasan',[1,2,3,4,'HasanZ'],{'key1' : 100,'key2' : 250})"
   ]
  },
  {
   "cell_type": "code",
   "execution_count": 17,
   "id": "78f8631b",
   "metadata": {},
   "outputs": [
    {
     "data": {
      "text/plain": [
       "function"
      ]
     },
     "execution_count": 17,
     "metadata": {},
     "output_type": "execute_result"
    }
   ],
   "source": [
    "type(my_func)"
   ]
  },
  {
   "cell_type": "code",
   "execution_count": 18,
   "id": "56ca7c1d",
   "metadata": {},
   "outputs": [
    {
     "name": "stdout",
     "output_type": "stream",
     "text": [
      "(1, 'Hasan', [1, 2, 3, 4, 'HasanZ'], {'key1': 100, 'key2': 250})\n"
     ]
    }
   ],
   "source": [
    "my_r = my_func(1,'Hasan',[1,2,3,4,'HasanZ'],{'key1' : 100,'key2' : 250})"
   ]
  },
  {
   "cell_type": "code",
   "execution_count": 20,
   "id": "be3300a4",
   "metadata": {},
   "outputs": [
    {
     "name": "stdout",
     "output_type": "stream",
     "text": [
      "None\n"
     ]
    }
   ],
   "source": [
    "print(my_r)"
   ]
  },
  {
   "cell_type": "code",
   "execution_count": 21,
   "id": "b27b57cd",
   "metadata": {},
   "outputs": [
    {
     "data": {
      "text/plain": [
       "NoneType"
      ]
     },
     "execution_count": 21,
     "metadata": {},
     "output_type": "execute_result"
    }
   ],
   "source": [
    "type(my_r)"
   ]
  },
  {
   "cell_type": "code",
   "execution_count": 22,
   "id": "9819394a",
   "metadata": {},
   "outputs": [],
   "source": [
    "def my_example_func(**kwargs):\n",
    "    print(kwargs)"
   ]
  },
  {
   "cell_type": "code",
   "execution_count": 23,
   "id": "6b20e357",
   "metadata": {},
   "outputs": [
    {
     "name": "stdout",
     "output_type": "stream",
     "text": [
      "{'run': 150}\n"
     ]
    }
   ],
   "source": [
    "my_example_func(run=150)"
   ]
  },
  {
   "cell_type": "code",
   "execution_count": 24,
   "id": "f322baac",
   "metadata": {},
   "outputs": [
    {
     "name": "stdout",
     "output_type": "stream",
     "text": [
      "{'Jump': 250, 'Run': 150, 'Jumping': 300, 'Tennis': 400, 'Basketball': 500}\n"
     ]
    }
   ],
   "source": [
    "my_example_func(Jump = 250,Run = 150,Jumping = 300,Tennis = 400, Basketball = 500)"
   ]
  },
  {
   "cell_type": "code",
   "execution_count": 25,
   "id": "154d095e",
   "metadata": {},
   "outputs": [],
   "source": [
    "def my_example_func(**kwargs):\n",
    "    if 'Run' in kwargs:\n",
    "        print('To run burst 150 calories!')\n",
    "    else:\n",
    "        print('Sport is dead!')"
   ]
  },
  {
   "cell_type": "code",
   "execution_count": 26,
   "id": "d3d327c7",
   "metadata": {},
   "outputs": [
    {
     "name": "stdout",
     "output_type": "stream",
     "text": [
      "Sport is dead!\n"
     ]
    }
   ],
   "source": [
    "my_example_func(run=150,jump=400)"
   ]
  },
  {
   "cell_type": "code",
   "execution_count": 27,
   "id": "04436daa",
   "metadata": {},
   "outputs": [
    {
     "name": "stdout",
     "output_type": "stream",
     "text": [
      "To run burst 150 calories!\n"
     ]
    }
   ],
   "source": [
    "my_example_func(Run =150)"
   ]
  },
  {
   "cell_type": "code",
   "execution_count": null,
   "id": "43156cc5",
   "metadata": {},
   "outputs": [],
   "source": []
  }
 ],
 "metadata": {
  "kernelspec": {
   "display_name": "Python 3 (ipykernel)",
   "language": "python",
   "name": "python3"
  },
  "language_info": {
   "codemirror_mode": {
    "name": "ipython",
    "version": 3
   },
   "file_extension": ".py",
   "mimetype": "text/x-python",
   "name": "python",
   "nbconvert_exporter": "python",
   "pygments_lexer": "ipython3",
   "version": "3.9.12"
  }
 },
 "nbformat": 4,
 "nbformat_minor": 5
}
