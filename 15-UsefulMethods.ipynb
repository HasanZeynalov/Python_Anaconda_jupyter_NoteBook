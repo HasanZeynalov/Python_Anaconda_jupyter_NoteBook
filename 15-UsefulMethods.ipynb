{
 "cells": [
  {
   "cell_type": "code",
   "execution_count": 1,
   "id": "7aca38f4",
   "metadata": {},
   "outputs": [],
   "source": [
    "my_list=[1,2,3,4,5,6,7,8]"
   ]
  },
  {
   "cell_type": "code",
   "execution_count": 2,
   "id": "6a5f88f9",
   "metadata": {},
   "outputs": [
    {
     "name": "stdout",
     "output_type": "stream",
     "text": [
      "1\n",
      "2\n",
      "3\n",
      "4\n",
      "5\n",
      "6\n",
      "7\n",
      "8\n"
     ]
    }
   ],
   "source": [
    "for number in my_list:\n",
    "    print(number)"
   ]
  },
  {
   "cell_type": "markdown",
   "id": "a5e165c7",
   "metadata": {},
   "source": [
    "##Range"
   ]
  },
  {
   "cell_type": "code",
   "execution_count": 6,
   "id": "3f07f565",
   "metadata": {},
   "outputs": [
    {
     "name": "stdout",
     "output_type": "stream",
     "text": [
      "range(0, 20)\n"
     ]
    }
   ],
   "source": [
    "x=range(20)\n",
    "print(x)"
   ]
  },
  {
   "cell_type": "code",
   "execution_count": 7,
   "id": "121dec18",
   "metadata": {},
   "outputs": [
    {
     "data": {
      "text/plain": [
       "range"
      ]
     },
     "execution_count": 7,
     "metadata": {},
     "output_type": "execute_result"
    }
   ],
   "source": [
    "type(x)"
   ]
  },
  {
   "cell_type": "code",
   "execution_count": 8,
   "id": "11612381",
   "metadata": {},
   "outputs": [
    {
     "name": "stdout",
     "output_type": "stream",
     "text": [
      "0\n",
      "1\n",
      "2\n",
      "3\n",
      "4\n",
      "5\n",
      "6\n",
      "7\n",
      "8\n",
      "9\n",
      "10\n",
      "11\n",
      "12\n"
     ]
    }
   ],
   "source": [
    "for num in list(range(13)):\n",
    "    print(num)"
   ]
  },
  {
   "cell_type": "code",
   "execution_count": 10,
   "id": "00e3f49c",
   "metadata": {},
   "outputs": [
    {
     "name": "stdout",
     "output_type": "stream",
     "text": [
      "4\n",
      "5\n",
      "6\n",
      "7\n",
      "8\n",
      "9\n",
      "10\n",
      "11\n"
     ]
    }
   ],
   "source": [
    "for num in list(range(4,12)):\n",
    "    print(num)"
   ]
  },
  {
   "cell_type": "code",
   "execution_count": 12,
   "id": "c8a88287",
   "metadata": {},
   "outputs": [
    {
     "name": "stdout",
     "output_type": "stream",
     "text": [
      "3\n",
      "11\n",
      "19\n",
      "27\n",
      "35\n",
      "43\n",
      "51\n"
     ]
    }
   ],
   "source": [
    "for no in range(3,56,8):\n",
    "    print(no)"
   ]
  },
  {
   "cell_type": "markdown",
   "id": "2d1a7bb3",
   "metadata": {},
   "source": [
    "## Enumerate"
   ]
  },
  {
   "cell_type": "code",
   "execution_count": 15,
   "id": "aab1ebef",
   "metadata": {},
   "outputs": [
    {
     "name": "stdout",
     "output_type": "stream",
     "text": [
      "My numbers: 6 ,Index of number: 0\n",
      "My numbers: 7 ,Index of number: 1\n",
      "My numbers: 8 ,Index of number: 2\n",
      "My numbers: 9 ,Index of number: 3\n",
      "My numbers: 10 ,Index of number: 4\n",
      "My numbers: 11 ,Index of number: 5\n",
      "My numbers: 12 ,Index of number: 6\n",
      "My numbers: 13 ,Index of number: 7\n",
      "My numbers: 14 ,Index of number: 8\n",
      "My numbers: 15 ,Index of number: 9\n",
      "My numbers: 16 ,Index of number: 10\n",
      "My numbers: 17 ,Index of number: 11\n",
      "My numbers: 18 ,Index of number: 12\n",
      "My numbers: 19 ,Index of number: 13\n"
     ]
    }
   ],
   "source": [
    "index=0\n",
    "for my_numbers in range(6,20):\n",
    "    print(f\"My numbers: {my_numbers} ,Index of number: {index}\")\n",
    "    index+=1"
   ]
  },
  {
   "cell_type": "code",
   "execution_count": 17,
   "id": "eae16596",
   "metadata": {},
   "outputs": [
    {
     "name": "stdout",
     "output_type": "stream",
     "text": [
      "Your next numbers: (0, 9)\n",
      "Your next numbers: (1, 10)\n",
      "Your next numbers: (2, 11)\n",
      "Your next numbers: (3, 12)\n",
      "Your next numbers: (4, 13)\n",
      "Your next numbers: (5, 14)\n",
      "Your next numbers: (6, 15)\n",
      "Your next numbers: (7, 16)\n"
     ]
    }
   ],
   "source": [
    "for my_numbers_1 in enumerate(range(9,17)):\n",
    "    print(f\"Your next numbers: {my_numbers_1}\")"
   ]
  },
  {
   "cell_type": "code",
   "execution_count": 18,
   "id": "d75b0fb3",
   "metadata": {},
   "outputs": [
    {
     "data": {
      "text/plain": [
       "tuple"
      ]
     },
     "execution_count": 18,
     "metadata": {},
     "output_type": "execute_result"
    }
   ],
   "source": [
    "type(my_numbers_1)"
   ]
  },
  {
   "cell_type": "code",
   "execution_count": 21,
   "id": "10e3f030",
   "metadata": {},
   "outputs": [
    {
     "name": "stdout",
     "output_type": "stream",
     "text": [
      "0\n",
      "8\n",
      "1\n",
      "9\n",
      "2\n",
      "10\n",
      "3\n",
      "11\n",
      "4\n",
      "12\n",
      "5\n",
      "13\n",
      "6\n",
      "14\n"
     ]
    }
   ],
   "source": [
    "for (index,number) in enumerate(range(8,15)):\n",
    "    print(index)\n",
    "    print(number)"
   ]
  },
  {
   "cell_type": "markdown",
   "id": "89029b28",
   "metadata": {},
   "source": [
    "Random"
   ]
  },
  {
   "cell_type": "code",
   "execution_count": 23,
   "id": "4cdc4531",
   "metadata": {},
   "outputs": [],
   "source": [
    "from random import randint"
   ]
  },
  {
   "cell_type": "code",
   "execution_count": 24,
   "id": "dece35b3",
   "metadata": {},
   "outputs": [
    {
     "data": {
      "text/plain": [
       "839"
      ]
     },
     "execution_count": 24,
     "metadata": {},
     "output_type": "execute_result"
    }
   ],
   "source": [
    "randint(0,1000)"
   ]
  },
  {
   "cell_type": "code",
   "execution_count": 25,
   "id": "89fd22c8",
   "metadata": {},
   "outputs": [
    {
     "data": {
      "text/plain": [
       "25"
      ]
     },
     "execution_count": 25,
     "metadata": {},
     "output_type": "execute_result"
    }
   ],
   "source": [
    "randint(24,25)"
   ]
  },
  {
   "cell_type": "code",
   "execution_count": 26,
   "id": "a5f5df23",
   "metadata": {},
   "outputs": [],
   "source": [
    "from random import shuffle"
   ]
  },
  {
   "cell_type": "code",
   "execution_count": 29,
   "id": "586646ff",
   "metadata": {},
   "outputs": [],
   "source": [
    "my_first_list=list(range(0,10))"
   ]
  },
  {
   "cell_type": "code",
   "execution_count": 30,
   "id": "bd5fbe62",
   "metadata": {},
   "outputs": [
    {
     "name": "stdout",
     "output_type": "stream",
     "text": [
      "[0, 1, 2, 3, 4, 5, 6, 7, 8, 9]\n"
     ]
    }
   ],
   "source": [
    "print(my_first_list)"
   ]
  },
  {
   "cell_type": "code",
   "execution_count": 31,
   "id": "0dea44d2",
   "metadata": {},
   "outputs": [],
   "source": [
    "shuffle(my_first_list)"
   ]
  },
  {
   "cell_type": "code",
   "execution_count": 32,
   "id": "88d937db",
   "metadata": {},
   "outputs": [
    {
     "data": {
      "text/plain": [
       "[5, 2, 6, 0, 7, 9, 3, 1, 8, 4]"
      ]
     },
     "execution_count": 32,
     "metadata": {},
     "output_type": "execute_result"
    }
   ],
   "source": [
    "my_first_list"
   ]
  },
  {
   "cell_type": "markdown",
   "id": "3dfde27a",
   "metadata": {},
   "source": [
    "## Zip"
   ]
  },
  {
   "cell_type": "code",
   "execution_count": 33,
   "id": "67952113",
   "metadata": {},
   "outputs": [],
   "source": [
    "sport_list=['Fitness','Basketball','Tennis','Dzu-do']"
   ]
  },
  {
   "cell_type": "code",
   "execution_count": 34,
   "id": "dda8f5eb",
   "metadata": {},
   "outputs": [],
   "source": [
    "country_list=['England','USA','France','Japan']"
   ]
  },
  {
   "cell_type": "code",
   "execution_count": 35,
   "id": "32bc628c",
   "metadata": {},
   "outputs": [],
   "source": [
    "calories_list=[250,340,450,200]"
   ]
  },
  {
   "cell_type": "code",
   "execution_count": 36,
   "id": "a455a7fe",
   "metadata": {},
   "outputs": [
    {
     "data": {
      "text/plain": [
       "<zip at 0x2a752602900>"
      ]
     },
     "execution_count": 36,
     "metadata": {},
     "output_type": "execute_result"
    }
   ],
   "source": [
    "zip(sport_list,country_list,calories_list)"
   ]
  },
  {
   "cell_type": "code",
   "execution_count": 37,
   "id": "c8266a4f",
   "metadata": {},
   "outputs": [],
   "source": [
    "new_list2=zip(sport_list,country_list,calories_list)"
   ]
  },
  {
   "cell_type": "code",
   "execution_count": 38,
   "id": "4e14c018",
   "metadata": {},
   "outputs": [
    {
     "name": "stdout",
     "output_type": "stream",
     "text": [
      "<zip object at 0x000002A752627AC0>\n"
     ]
    }
   ],
   "source": [
    "print(new_list2)"
   ]
  },
  {
   "cell_type": "code",
   "execution_count": 39,
   "id": "c3bf2281",
   "metadata": {},
   "outputs": [],
   "source": [
    "new_list2=list(zip(sport_list,country_list,calories_list))"
   ]
  },
  {
   "cell_type": "code",
   "execution_count": 40,
   "id": "ca0f3527",
   "metadata": {},
   "outputs": [
    {
     "data": {
      "text/plain": [
       "[('Fitness', 'England', 250),\n",
       " ('Basketball', 'USA', 340),\n",
       " ('Tennis', 'France', 450),\n",
       " ('Dzu-do', 'Japan', 200)]"
      ]
     },
     "execution_count": 40,
     "metadata": {},
     "output_type": "execute_result"
    }
   ],
   "source": [
    "new_list2"
   ]
  },
  {
   "cell_type": "code",
   "execution_count": 42,
   "id": "93e06907",
   "metadata": {},
   "outputs": [
    {
     "name": "stdout",
     "output_type": "stream",
     "text": [
      "('Fitness', 'England', 250)\n",
      "('Basketball', 'USA', 340)\n",
      "('Tennis', 'France', 450)\n",
      "('Dzu-do', 'Japan', 200)\n"
     ]
    }
   ],
   "source": [
    "for lists in new_list2:\n",
    "    print(lists)"
   ]
  },
  {
   "cell_type": "markdown",
   "id": "0f54a079",
   "metadata": {},
   "source": [
    "## List advanced"
   ]
  },
  {
   "cell_type": "code",
   "execution_count": 43,
   "id": "d74d4224",
   "metadata": {},
   "outputs": [],
   "source": [
    "my_list=[]\n",
    "\n",
    "my_string='Hasan Zeynalov'"
   ]
  },
  {
   "cell_type": "code",
   "execution_count": 46,
   "id": "50193f7e",
   "metadata": {},
   "outputs": [
    {
     "data": {
      "text/plain": [
       "['H', 'a', 's', 'a', 'n', ' ', 'Z', 'e', 'y', 'n', 'a', 'l', 'o', 'v']"
      ]
     },
     "execution_count": 46,
     "metadata": {},
     "output_type": "execute_result"
    }
   ],
   "source": [
    "list(my_string)"
   ]
  },
  {
   "cell_type": "code",
   "execution_count": 47,
   "id": "025fb06d",
   "metadata": {},
   "outputs": [
    {
     "data": {
      "text/plain": [
       "str"
      ]
     },
     "execution_count": 47,
     "metadata": {},
     "output_type": "execute_result"
    }
   ],
   "source": [
    "type(my_string)"
   ]
  },
  {
   "cell_type": "code",
   "execution_count": null,
   "id": "270b1752",
   "metadata": {},
   "outputs": [],
   "source": [
    "my_list=list(my_string)\n",
    "print(my_list)"
   ]
  },
  {
   "cell_type": "code",
   "execution_count": 48,
   "id": "acac3c8c",
   "metadata": {},
   "outputs": [
    {
     "name": "stdout",
     "output_type": "stream",
     "text": [
      "['H', 'a', 's', 'a', 'n', ' ', 'Z', 'e', 'y', 'n', 'a', 'l', 'o', 'v']\n"
     ]
    }
   ],
   "source": [
    "my_list=list(my_string)\n",
    "print(my_list)"
   ]
  },
  {
   "cell_type": "code",
   "execution_count": 50,
   "id": "82e2e4c2",
   "metadata": {},
   "outputs": [],
   "source": [
    "for elements in my_string:\n",
    "    my_list.append(elements)"
   ]
  },
  {
   "cell_type": "code",
   "execution_count": 52,
   "id": "1fb97bcf",
   "metadata": {},
   "outputs": [
    {
     "name": "stdout",
     "output_type": "stream",
     "text": [
      "v\n"
     ]
    }
   ],
   "source": [
    "print(elements)"
   ]
  },
  {
   "cell_type": "code",
   "execution_count": 59,
   "id": "e655c59c",
   "metadata": {},
   "outputs": [],
   "source": [
    "my_list1=[]\n",
    "\n",
    "my_string_1='Hasan Zeynalov'"
   ]
  },
  {
   "cell_type": "code",
   "execution_count": 60,
   "id": "510b6aec",
   "metadata": {},
   "outputs": [
    {
     "name": "stdout",
     "output_type": "stream",
     "text": [
      "['H']\n",
      "['H', 'a']\n",
      "['H', 'a', 's']\n",
      "['H', 'a', 's', 'a']\n",
      "['H', 'a', 's', 'a', 'n']\n",
      "['H', 'a', 's', 'a', 'n', ' ']\n",
      "['H', 'a', 's', 'a', 'n', ' ', 'Z']\n",
      "['H', 'a', 's', 'a', 'n', ' ', 'Z', 'e']\n",
      "['H', 'a', 's', 'a', 'n', ' ', 'Z', 'e', 'y']\n",
      "['H', 'a', 's', 'a', 'n', ' ', 'Z', 'e', 'y', 'n']\n",
      "['H', 'a', 's', 'a', 'n', ' ', 'Z', 'e', 'y', 'n', 'a']\n",
      "['H', 'a', 's', 'a', 'n', ' ', 'Z', 'e', 'y', 'n', 'a', 'l']\n",
      "['H', 'a', 's', 'a', 'n', ' ', 'Z', 'e', 'y', 'n', 'a', 'l', 'o']\n",
      "['H', 'a', 's', 'a', 'n', ' ', 'Z', 'e', 'y', 'n', 'a', 'l', 'o', 'v']\n"
     ]
    }
   ],
   "source": [
    "for items in my_string_1:\n",
    "    my_list1.append(items)\n",
    "    print(my_list1)"
   ]
  },
  {
   "cell_type": "code",
   "execution_count": 64,
   "id": "00dbee4a",
   "metadata": {},
   "outputs": [],
   "source": [
    "my_list_1=[items for items in my_string_1]"
   ]
  },
  {
   "cell_type": "code",
   "execution_count": 65,
   "id": "ad2935cc",
   "metadata": {},
   "outputs": [
    {
     "data": {
      "text/plain": [
       "['H', 'a', 's', 'a', 'n', ' ', 'Z', 'e', 'y', 'n', 'a', 'l', 'o', 'v']"
      ]
     },
     "execution_count": 65,
     "metadata": {},
     "output_type": "execute_result"
    }
   ],
   "source": [
    "my_list_1"
   ]
  },
  {
   "cell_type": "code",
   "execution_count": 66,
   "id": "5fd69018",
   "metadata": {},
   "outputs": [],
   "source": [
    "new_list_2=[item for item in list(range(3,16))]"
   ]
  },
  {
   "cell_type": "code",
   "execution_count": 67,
   "id": "8f949dd2",
   "metadata": {},
   "outputs": [
    {
     "name": "stdout",
     "output_type": "stream",
     "text": [
      "[3, 4, 5, 6, 7, 8, 9, 10, 11, 12, 13, 14, 15]\n"
     ]
    }
   ],
   "source": [
    "print(new_list_2)"
   ]
  },
  {
   "cell_type": "code",
   "execution_count": 68,
   "id": "9d027fbe",
   "metadata": {},
   "outputs": [],
   "source": [
    "new_list3=[element * 5 for element in list(range(2,13,3))]"
   ]
  },
  {
   "cell_type": "code",
   "execution_count": 69,
   "id": "a7b65143",
   "metadata": {},
   "outputs": [
    {
     "name": "stdout",
     "output_type": "stream",
     "text": [
      "[10, 25, 40, 55]\n"
     ]
    }
   ],
   "source": [
    "print(new_list3)"
   ]
  },
  {
   "cell_type": "code",
   "execution_count": 70,
   "id": "c8650af6",
   "metadata": {},
   "outputs": [
    {
     "name": "stdout",
     "output_type": "stream",
     "text": [
      "[8, 125, 512, 1331]\n"
     ]
    }
   ],
   "source": [
    "new_list3=[element **3 for element in list(range(2,13,3))]\n",
    "print(new_list3)"
   ]
  },
  {
   "cell_type": "code",
   "execution_count": null,
   "id": "8dfc1343",
   "metadata": {},
   "outputs": [],
   "source": []
  }
 ],
 "metadata": {
  "kernelspec": {
   "display_name": "Python 3 (ipykernel)",
   "language": "python",
   "name": "python3"
  },
  "language_info": {
   "codemirror_mode": {
    "name": "ipython",
    "version": 3
   },
   "file_extension": ".py",
   "mimetype": "text/x-python",
   "name": "python",
   "nbconvert_exporter": "python",
   "pygments_lexer": "ipython3",
   "version": "3.9.12"
  }
 },
 "nbformat": 4,
 "nbformat_minor": 5
}
