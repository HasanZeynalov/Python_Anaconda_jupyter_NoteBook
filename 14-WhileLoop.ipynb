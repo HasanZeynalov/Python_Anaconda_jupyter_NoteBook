{
 "cells": [
  {
   "cell_type": "code",
   "execution_count": 5,
   "id": "a25f2daa",
   "metadata": {},
   "outputs": [],
   "source": [
    "a=0"
   ]
  },
  {
   "cell_type": "code",
   "execution_count": 6,
   "id": "20a3c59e",
   "metadata": {},
   "outputs": [
    {
     "name": "stdout",
     "output_type": "stream",
     "text": [
      "Hasan\n",
      "Hasan\n",
      "Hasan\n",
      "Hasan\n",
      "Hasan\n",
      "Hasan\n"
     ]
    }
   ],
   "source": [
    "while a <= 5:\n",
    "    print('Hasan')\n",
    "    a=a+1"
   ]
  },
  {
   "cell_type": "code",
   "execution_count": 7,
   "id": "974deb19",
   "metadata": {},
   "outputs": [],
   "source": [
    "my_list=[0,1,2,3,4,5,6,7,8,9,'Hasan']"
   ]
  },
  {
   "cell_type": "code",
   "execution_count": 8,
   "id": "bbaaabe6",
   "metadata": {},
   "outputs": [
    {
     "name": "stdout",
     "output_type": "stream",
     "text": [
      "5 in my list\n",
      "5 in my list\n",
      "5 in my list\n",
      "5 in my list\n",
      "5 in my list\n",
      "5 in my list\n"
     ]
    }
   ],
   "source": [
    "while 5 in my_list:\n",
    "    print('5 in my list')\n",
    "    my_list.pop()"
   ]
  },
  {
   "cell_type": "code",
   "execution_count": 10,
   "id": "1bda229f",
   "metadata": {},
   "outputs": [],
   "source": [
    "m=0"
   ]
  },
  {
   "cell_type": "code",
   "execution_count": 11,
   "id": "2c573309",
   "metadata": {},
   "outputs": [
    {
     "name": "stdout",
     "output_type": "stream",
     "text": [
      "0\n",
      "1\n",
      "2\n",
      "3\n",
      "4\n",
      "5\n"
     ]
    }
   ],
   "source": [
    "while m <= 7:\n",
    "    print(m)\n",
    "    if m == 5:\n",
    "        break\n",
    "    m +=1"
   ]
  },
  {
   "cell_type": "code",
   "execution_count": 12,
   "id": "ef9cbad2",
   "metadata": {},
   "outputs": [],
   "source": [
    "p=0"
   ]
  },
  {
   "cell_type": "code",
   "execution_count": 16,
   "id": "e9931a35",
   "metadata": {},
   "outputs": [
    {
     "name": "stdout",
     "output_type": "stream",
     "text": [
      "Value p:0\n",
      "Value p:1\n",
      "Value p:2\n",
      "Value p:3\n",
      "Value p:4\n"
     ]
    }
   ],
   "source": [
    "while p <= 4:\n",
    "    print(\"Value p:\" + str(p))\n",
    "    p +=1"
   ]
  },
  {
   "cell_type": "code",
   "execution_count": 17,
   "id": "6e714b24",
   "metadata": {},
   "outputs": [],
   "source": [
    "k=0"
   ]
  },
  {
   "cell_type": "code",
   "execution_count": 18,
   "id": "9dfd92b3",
   "metadata": {},
   "outputs": [
    {
     "name": "stdout",
     "output_type": "stream",
     "text": [
      "Value k: 0\n",
      "Value k: 1\n",
      "Value k: 2\n",
      "Value k: 3\n",
      "Value k: 4\n",
      "Value k: 5\n",
      "Value k: 6\n",
      "Value k: 7\n",
      "Value k: 8\n",
      "Value k: 9\n",
      "Value k: 10\n",
      "Value k: 11\n",
      "Value k: 12\n"
     ]
    }
   ],
   "source": [
    "while k <= 12:\n",
    "    print(f\"Value k: {k}\")\n",
    "    k+=1"
   ]
  },
  {
   "cell_type": "code",
   "execution_count": null,
   "id": "5001a226",
   "metadata": {},
   "outputs": [],
   "source": []
  }
 ],
 "metadata": {
  "kernelspec": {
   "display_name": "Python 3 (ipykernel)",
   "language": "python",
   "name": "python3"
  },
  "language_info": {
   "codemirror_mode": {
    "name": "ipython",
    "version": 3
   },
   "file_extension": ".py",
   "mimetype": "text/x-python",
   "name": "python",
   "nbconvert_exporter": "python",
   "pygments_lexer": "ipython3",
   "version": "3.9.12"
  }
 },
 "nbformat": 4,
 "nbformat_minor": 5
}
