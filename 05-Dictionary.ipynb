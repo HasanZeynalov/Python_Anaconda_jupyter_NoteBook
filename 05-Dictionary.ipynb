{
 "cells": [
  {
   "cell_type": "code",
   "execution_count": 4,
   "id": "de3dbb29",
   "metadata": {},
   "outputs": [
    {
     "data": {
      "text/plain": [
       "{'Run': 100, 'Swim': 200, 'Jump': 400}"
      ]
     },
     "execution_count": 4,
     "metadata": {},
     "output_type": "execute_result"
    }
   ],
   "source": [
    "my_fitness_dictionary={'Run':100 ,'Swim':200 ,'Jump':400}\n",
    "my_fitness_dictionary"
   ]
  },
  {
   "cell_type": "code",
   "execution_count": 5,
   "id": "0810511a",
   "metadata": {},
   "outputs": [
    {
     "data": {
      "text/plain": [
       "100"
      ]
     },
     "execution_count": 5,
     "metadata": {},
     "output_type": "execute_result"
    }
   ],
   "source": [
    "my_fitness_dictionary['Run']"
   ]
  },
  {
   "cell_type": "code",
   "execution_count": 8,
   "id": "d14a21f6",
   "metadata": {},
   "outputs": [
    {
     "data": {
      "text/plain": [
       "400"
      ]
     },
     "execution_count": 8,
     "metadata": {},
     "output_type": "execute_result"
    }
   ],
   "source": [
    "my_fitness_dictionary['Jump']"
   ]
  },
  {
   "cell_type": "code",
   "execution_count": 9,
   "id": "5b443122",
   "metadata": {},
   "outputs": [
    {
     "data": {
      "text/plain": [
       "'Hasan'"
      ]
     },
     "execution_count": 9,
     "metadata": {},
     "output_type": "execute_result"
    }
   ],
   "source": [
    "my_mixed_dictionary={'key1' : 'Hasan', 'key2' : [1,4,0.5,'Makat'], 'key3' : {'key4' : 'valeh'}}\n",
    "my_mixed_dictionary['key1']"
   ]
  },
  {
   "cell_type": "code",
   "execution_count": 10,
   "id": "965c0565",
   "metadata": {},
   "outputs": [
    {
     "data": {
      "text/plain": [
       "[1, 4, 0.5, 'Makat']"
      ]
     },
     "execution_count": 10,
     "metadata": {},
     "output_type": "execute_result"
    }
   ],
   "source": [
    "my_mixed_dictionary['key2']"
   ]
  },
  {
   "cell_type": "code",
   "execution_count": 11,
   "id": "667aabde",
   "metadata": {},
   "outputs": [
    {
     "data": {
      "text/plain": [
       "{'key4': 'valeh'}"
      ]
     },
     "execution_count": 11,
     "metadata": {},
     "output_type": "execute_result"
    }
   ],
   "source": [
    "my_mixed_dictionary['key3']"
   ]
  },
  {
   "cell_type": "code",
   "execution_count": 13,
   "id": "f5a7b919",
   "metadata": {},
   "outputs": [
    {
     "data": {
      "text/plain": [
       "'valeh'"
      ]
     },
     "execution_count": 13,
     "metadata": {},
     "output_type": "execute_result"
    }
   ],
   "source": [
    "my_mixed_dictionary['key3']['key4']"
   ]
  },
  {
   "cell_type": "code",
   "execution_count": 14,
   "id": "f7f0df5f",
   "metadata": {},
   "outputs": [
    {
     "data": {
      "text/plain": [
       "dict_keys(['key1', 'key2', 'key3'])"
      ]
     },
     "execution_count": 14,
     "metadata": {},
     "output_type": "execute_result"
    }
   ],
   "source": [
    "my_mixed_dictionary.keys()"
   ]
  },
  {
   "cell_type": "code",
   "execution_count": 15,
   "id": "e8c93176",
   "metadata": {},
   "outputs": [
    {
     "data": {
      "text/plain": [
       "dict_values(['Hasan', [1, 4, 0.5, 'Makat'], {'key4': 'valeh'}])"
      ]
     },
     "execution_count": 15,
     "metadata": {},
     "output_type": "execute_result"
    }
   ],
   "source": [
    "my_mixed_dictionary.values()"
   ]
  },
  {
   "cell_type": "code",
   "execution_count": 31,
   "id": "66799d91",
   "metadata": {},
   "outputs": [],
   "source": [
    "my_new_dictionary={'k1' : 'Hasan', 'k2' : 'Valeh', 'k3' : 'Maqa'}"
   ]
  },
  {
   "cell_type": "code",
   "execution_count": 32,
   "id": "80efded3",
   "metadata": {},
   "outputs": [
    {
     "data": {
      "text/plain": [
       "{'k1': 'Hasan', 'k2': 'Valeh', 'k3': 'Maqa'}"
      ]
     },
     "execution_count": 32,
     "metadata": {},
     "output_type": "execute_result"
    }
   ],
   "source": [
    "my_new_dictionary"
   ]
  },
  {
   "cell_type": "code",
   "execution_count": 37,
   "id": "f83a0b95",
   "metadata": {},
   "outputs": [
    {
     "data": {
      "text/plain": [
       "{'k1': 'Hasan', 'k2': 'Valeh', 'k3': 'Maqa', 'k4': 'Makat'}"
      ]
     },
     "execution_count": 37,
     "metadata": {},
     "output_type": "execute_result"
    }
   ],
   "source": [
    "my_new_dictionary['k4']='Makat'\n",
    "my_new_dictionary"
   ]
  },
  {
   "cell_type": "code",
   "execution_count": null,
   "id": "285de61b",
   "metadata": {
    "scrolled": true
   },
   "outputs": [],
   "source": []
  },
  {
   "cell_type": "code",
   "execution_count": null,
   "id": "12441adf",
   "metadata": {},
   "outputs": [],
   "source": []
  }
 ],
 "metadata": {
  "kernelspec": {
   "display_name": "Python 3 (ipykernel)",
   "language": "python",
   "name": "python3"
  },
  "language_info": {
   "codemirror_mode": {
    "name": "ipython",
    "version": 3
   },
   "file_extension": ".py",
   "mimetype": "text/x-python",
   "name": "python",
   "nbconvert_exporter": "python",
   "pygments_lexer": "ipython3",
   "version": "3.9.12"
  }
 },
 "nbformat": 4,
 "nbformat_minor": 5
}
