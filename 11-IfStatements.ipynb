{
 "cells": [
  {
   "cell_type": "code",
   "execution_count": 7,
   "id": "877a33b1",
   "metadata": {},
   "outputs": [
    {
     "name": "stdout",
     "output_type": "stream",
     "text": [
      "3 is greater\n"
     ]
    }
   ],
   "source": [
    "if 3 > 2:\n",
    "    print('3 is greater')\n"
   ]
  },
  {
   "cell_type": "code",
   "execution_count": 13,
   "id": "c3090de5",
   "metadata": {},
   "outputs": [],
   "source": [
    "x=5"
   ]
  },
  {
   "cell_type": "code",
   "execution_count": 22,
   "id": "bd63b047",
   "metadata": {},
   "outputs": [],
   "source": [
    "y=4"
   ]
  },
  {
   "cell_type": "code",
   "execution_count": 23,
   "id": "3fc69dc1",
   "metadata": {},
   "outputs": [
    {
     "name": "stdout",
     "output_type": "stream",
     "text": [
      "x is greater yhan y\n"
     ]
    }
   ],
   "source": [
    "if x<y:\n",
    "    print('y is greater than x')\n",
    "elif x>y:\n",
    "    print('x is greater yhan y')\n",
    "else:\n",
    "    print('x is y')"
   ]
  },
  {
   "cell_type": "code",
   "execution_count": 32,
   "id": "b6e07028",
   "metadata": {},
   "outputs": [
    {
     "name": "stdout",
     "output_type": "stream",
     "text": [
      "Superhero: Spiderman\n"
     ]
    }
   ],
   "source": [
    "my_superhero=input('Superhero: ')"
   ]
  },
  {
   "cell_type": "code",
   "execution_count": 33,
   "id": "f9bdbd21",
   "metadata": {},
   "outputs": [
    {
     "name": "stdout",
     "output_type": "stream",
     "text": [
      ":(\n"
     ]
    }
   ],
   "source": [
    "if my_superhero == 'Aquaman':\n",
    "    print('your hero is Aquaman')\n",
    "elif my_superhero == 'Batman':\n",
    "    print('your hero is Batman')\n",
    "elif my_superhero == 'Wonderwoman':\n",
    "    print('your hero is Wonderwoman')\n",
    "else:\n",
    "    print(\":(\")"
   ]
  },
  {
   "cell_type": "code",
   "execution_count": 41,
   "id": "5ba82c18",
   "metadata": {},
   "outputs": [
    {
     "name": "stdout",
     "output_type": "stream",
     "text": [
      "Please,Enter your first number:11\n"
     ]
    }
   ],
   "source": [
    "my_first_number=input('Please,Enter your first number:')"
   ]
  },
  {
   "cell_type": "code",
   "execution_count": 42,
   "id": "e1d584b8",
   "metadata": {},
   "outputs": [
    {
     "name": "stdout",
     "output_type": "stream",
     "text": [
      "Please,Enter your second number:13\n"
     ]
    }
   ],
   "source": [
    "my_second_number=input('Please,Enter your second number:')"
   ]
  },
  {
   "cell_type": "code",
   "execution_count": 37,
   "id": "cfb9dcc4",
   "metadata": {},
   "outputs": [
    {
     "name": "stdout",
     "output_type": "stream",
     "text": [
      "Please,Enter your third number:15\n"
     ]
    }
   ],
   "source": [
    "my_third_number=input('Please,Enter your third number:')"
   ]
  },
  {
   "cell_type": "code",
   "execution_count": 44,
   "id": "c9ce92e7",
   "metadata": {},
   "outputs": [
    {
     "name": "stdout",
     "output_type": "stream",
     "text": [
      ":(\n"
     ]
    }
   ],
   "source": [
    "if my_first_number > my_second_number and my_second_number >my_third_number:\n",
    "    print('Haso')\n",
    "elif my_second_number<my_first_number or my_third_number<my_first_number:\n",
    "    print('Maqo')\n",
    "else:\n",
    "    print(':(')"
   ]
  },
  {
   "cell_type": "code",
   "execution_count": 50,
   "id": "a66791af",
   "metadata": {},
   "outputs": [],
   "source": [
    "isDead = True"
   ]
  },
  {
   "cell_type": "code",
   "execution_count": 53,
   "id": "0578566f",
   "metadata": {},
   "outputs": [
    {
     "name": "stdout",
     "output_type": "stream",
     "text": [
      "Your chracter is dead\n"
     ]
    }
   ],
   "source": [
    "if isDead == True:\n",
    "    print('Your chracter is dead')\n",
    "else:\n",
    "    print('Your chracter is not dead')"
   ]
  },
  {
   "cell_type": "code",
   "execution_count": 54,
   "id": "c10a225c",
   "metadata": {},
   "outputs": [
    {
     "name": "stdout",
     "output_type": "stream",
     "text": [
      "Your chracter is dead\n"
     ]
    }
   ],
   "source": [
    "if isDead:\n",
    "    print('Your chracter is dead')\n",
    "else:\n",
    "    print('Your chracter is not dead')"
   ]
  },
  {
   "cell_type": "code",
   "execution_count": 55,
   "id": "94300838",
   "metadata": {},
   "outputs": [
    {
     "name": "stdout",
     "output_type": "stream",
     "text": [
      "Your chracter is not dead\n"
     ]
    }
   ],
   "source": [
    "if not isDead:\n",
    "    print('Your chracter is dead')\n",
    "else:\n",
    "    print('Your chracter is not dead')"
   ]
  },
  {
   "cell_type": "code",
   "execution_count": 56,
   "id": "013caf76",
   "metadata": {},
   "outputs": [],
   "source": [
    "my_string='Hello World'"
   ]
  },
  {
   "cell_type": "code",
   "execution_count": 57,
   "id": "405cc8cb",
   "metadata": {},
   "outputs": [
    {
     "name": "stdout",
     "output_type": "stream",
     "text": [
      "True\n"
     ]
    }
   ],
   "source": [
    "if my_string == 'Hello World':\n",
    "    print('True')\n",
    "else:\n",
    "    print(\"False\")"
   ]
  },
  {
   "cell_type": "code",
   "execution_count": 58,
   "id": "f38b3e1f",
   "metadata": {},
   "outputs": [
    {
     "name": "stdout",
     "output_type": "stream",
     "text": [
      "True\n"
     ]
    }
   ],
   "source": [
    "if 'Hello' in my_string:\n",
    "    print('True')\n",
    "else:\n",
    "    print('False')"
   ]
  },
  {
   "cell_type": "code",
   "execution_count": 59,
   "id": "0cd1d799",
   "metadata": {},
   "outputs": [],
   "source": [
    "my_list= [1,2,4,5,6.7,\"Hasan\"]"
   ]
  },
  {
   "cell_type": "code",
   "execution_count": 61,
   "id": "e31d9bc6",
   "metadata": {},
   "outputs": [
    {
     "name": "stdout",
     "output_type": "stream",
     "text": [
      "false\n"
     ]
    }
   ],
   "source": [
    "if my_list[3] == 6.7:\n",
    "    print('true')\n",
    "else:\n",
    "    print('false')"
   ]
  },
  {
   "cell_type": "code",
   "execution_count": 62,
   "id": "6ebcdd4f",
   "metadata": {},
   "outputs": [
    {
     "name": "stdout",
     "output_type": "stream",
     "text": [
      "True\n"
     ]
    }
   ],
   "source": [
    "if 2 in my_list :\n",
    "    print('True')\n",
    "else:\n",
    "    print('False')"
   ]
  },
  {
   "cell_type": "code",
   "execution_count": 63,
   "id": "3bd35b07",
   "metadata": {},
   "outputs": [],
   "source": [
    "my_dictionary={'k1' : 100,'k2' : 135,'k3' : 190}"
   ]
  },
  {
   "cell_type": "code",
   "execution_count": 69,
   "id": "c1bd52b9",
   "metadata": {},
   "outputs": [
    {
     "name": "stdout",
     "output_type": "stream",
     "text": [
      "False :(\n"
     ]
    }
   ],
   "source": [
    "if \"k0\" in my_dictionary.keys():\n",
    "    print(\"True\")\n",
    "else:\n",
    "    print('False :(')"
   ]
  },
  {
   "cell_type": "code",
   "execution_count": null,
   "id": "2682ddd2",
   "metadata": {},
   "outputs": [],
   "source": []
  }
 ],
 "metadata": {
  "kernelspec": {
   "display_name": "Python 3 (ipykernel)",
   "language": "python",
   "name": "python3"
  },
  "language_info": {
   "codemirror_mode": {
    "name": "ipython",
    "version": 3
   },
   "file_extension": ".py",
   "mimetype": "text/x-python",
   "name": "python",
   "nbconvert_exporter": "python",
   "pygments_lexer": "ipython3",
   "version": "3.9.12"
  }
 },
 "nbformat": 4,
 "nbformat_minor": 5
}
