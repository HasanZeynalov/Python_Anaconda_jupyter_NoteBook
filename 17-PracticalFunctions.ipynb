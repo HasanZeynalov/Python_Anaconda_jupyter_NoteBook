{
 "cells": [
  {
   "cell_type": "code",
   "execution_count": 18,
   "id": "32c731f4",
   "metadata": {},
   "outputs": [],
   "source": [
    "def divide(num):\n",
    "    return num / 2"
   ]
  },
  {
   "cell_type": "code",
   "execution_count": 19,
   "id": "b4d77e21",
   "metadata": {
    "scrolled": true
   },
   "outputs": [
    {
     "data": {
      "text/plain": [
       "4.5"
      ]
     },
     "execution_count": 19,
     "metadata": {},
     "output_type": "execute_result"
    }
   ],
   "source": [
    "divide(9)"
   ]
  },
  {
   "cell_type": "code",
   "execution_count": 20,
   "id": "2cb58054",
   "metadata": {},
   "outputs": [],
   "source": [
    "my_list = [1,2,3,4,5,6,7,8,9,5.5]"
   ]
  },
  {
   "cell_type": "code",
   "execution_count": 21,
   "id": "66e651b2",
   "metadata": {},
   "outputs": [
    {
     "name": "stdout",
     "output_type": "stream",
     "text": [
      "0.5\n",
      "1.0\n",
      "1.5\n",
      "2.0\n",
      "2.5\n",
      "3.0\n",
      "3.5\n",
      "4.0\n",
      "4.5\n",
      "2.75\n"
     ]
    }
   ],
   "source": [
    "for number in my_list:\n",
    "    print(number/2)"
   ]
  },
  {
   "cell_type": "markdown",
   "id": "311982eb",
   "metadata": {},
   "source": [
    "## Map"
   ]
  },
  {
   "cell_type": "code",
   "execution_count": 22,
   "id": "1573d344",
   "metadata": {},
   "outputs": [
    {
     "data": {
      "text/plain": [
       "<map at 0x286cb9420d0>"
      ]
     },
     "execution_count": 22,
     "metadata": {},
     "output_type": "execute_result"
    }
   ],
   "source": [
    "map(divide,my_list)"
   ]
  },
  {
   "cell_type": "code",
   "execution_count": 23,
   "id": "5ef80f0c",
   "metadata": {},
   "outputs": [],
   "source": [
    "my_map=map(divide,my_list)"
   ]
  },
  {
   "cell_type": "code",
   "execution_count": 24,
   "id": "abd124bd",
   "metadata": {},
   "outputs": [
    {
     "name": "stdout",
     "output_type": "stream",
     "text": [
      "<map object at 0x00000286CC066E20>\n"
     ]
    }
   ],
   "source": [
    "print(my_map)"
   ]
  },
  {
   "cell_type": "code",
   "execution_count": 25,
   "id": "527b9071",
   "metadata": {},
   "outputs": [
    {
     "data": {
      "text/plain": [
       "[0.5, 1.0, 1.5, 2.0, 2.5, 3.0, 3.5, 4.0, 4.5, 2.75]"
      ]
     },
     "execution_count": 25,
     "metadata": {},
     "output_type": "execute_result"
    }
   ],
   "source": [
    "list(map(divide,my_list))"
   ]
  },
  {
   "cell_type": "code",
   "execution_count": 28,
   "id": "b3a87d0c",
   "metadata": {},
   "outputs": [],
   "source": [
    "my_list1 = [1,2,3,4,5,6,7,8,9]"
   ]
  },
  {
   "cell_type": "code",
   "execution_count": 30,
   "id": "ac999750",
   "metadata": {},
   "outputs": [
    {
     "name": "stdout",
     "output_type": "stream",
     "text": [
      "None\n",
      "None\n",
      "None\n",
      "None\n",
      "None\n",
      "None\n",
      "None\n",
      "None\n",
      "None\n"
     ]
    }
   ],
   "source": [
    "my_new_list = []\n",
    "\n",
    "for num in my_list1:\n",
    "    print(my_new_list.append(divide(num)))\n",
    "   ## print(my_mew_list)"
   ]
  },
  {
   "cell_type": "code",
   "execution_count": 31,
   "id": "cfeb32eb",
   "metadata": {},
   "outputs": [
    {
     "data": {
      "text/plain": [
       "list"
      ]
     },
     "execution_count": 31,
     "metadata": {},
     "output_type": "execute_result"
    }
   ],
   "source": [
    "type(my_new_list)"
   ]
  },
  {
   "cell_type": "code",
   "execution_count": null,
   "id": "6d6a60a0",
   "metadata": {},
   "outputs": [],
   "source": []
  }
 ],
 "metadata": {
  "kernelspec": {
   "display_name": "Python 3 (ipykernel)",
   "language": "python",
   "name": "python3"
  },
  "language_info": {
   "codemirror_mode": {
    "name": "ipython",
    "version": 3
   },
   "file_extension": ".py",
   "mimetype": "text/x-python",
   "name": "python",
   "nbconvert_exporter": "python",
   "pygments_lexer": "ipython3",
   "version": "3.9.12"
  }
 },
 "nbformat": 4,
 "nbformat_minor": 5
}
